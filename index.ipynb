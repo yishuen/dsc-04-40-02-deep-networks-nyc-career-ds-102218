{
 "cells": [
  {
   "cell_type": "markdown",
   "metadata": {},
   "source": [
    "# Deep Networks"
   ]
  },
  {
   "cell_type": "markdown",
   "metadata": {},
   "source": [
    "## Introduction\n",
    "\n",
    "The previous two labs have given you quite some insight on how neural networks work. In this lecture, you'll learn why deeper networks sometimes lead to better results, and we'll generalize what you have learned before to get your matrix dimensions right in deep networks.\n",
    "\n",
    "\n",
    "## Objectives\n",
    "\n",
    "You will be able to:\n",
    "\n",
    "* Give intuitive justifications for using multilayer neural network designs\n",
    "* Explain the terms $dZ, dW, db and da$ in the creation of a neural network"
   ]
  },
  {
   "cell_type": "markdown",
   "metadata": {},
   "source": [
    "## 1. Why deep representations?"
   ]
  },
  {
   "cell_type": "markdown",
   "metadata": {},
   "source": [
    "eg. computer vision:\n",
    "- first layer detects edges in pictures\n",
    "- second layer groups edges together and starts to detect different parts\n",
    "- more layers: group even bigger parts together, etc."
   ]
  },
  {
   "cell_type": "markdown",
   "metadata": {},
   "source": [
    "eg. audio\n",
    "\n",
    "- first layer: low lever wave features\n",
    "- second layer: basic units of sounds, \"phonemes\" \n",
    "- third: word recognition\n",
    "- fourth: sentence recognition\n",
    "-...\n"
   ]
  },
  {
   "cell_type": "markdown",
   "metadata": {},
   "source": [
    "Idea: shallow networks detect \"simple\" things, and the deeper you go, the more comples things can be detected. "
   ]
  },
  {
   "cell_type": "markdown",
   "metadata": {},
   "source": [
    "You can build a smaller but deeper neural network that needs exponentially less hidden units but performs better, because learning happens in each layer!"
   ]
  },
  {
   "cell_type": "markdown",
   "metadata": {},
   "source": [
    "https://www.coursera.org/learn/neural-networks-deep-learning/lecture/rz9xJ/why-deep-representations"
   ]
  },
  {
   "cell_type": "markdown",
   "metadata": {},
   "source": [
    "## 2. Deep network notation"
   ]
  },
  {
   "cell_type": "markdown",
   "metadata": {},
   "source": [
    "### 2.1 An example"
   ]
  },
  {
   "cell_type": "markdown",
   "metadata": {},
   "source": [
    "\n",
    "Now let's try to generalize all the notation to get things straight and know the dimensions of all matrices we'll be working with. Let's have a look at this 3-layer network:"
   ]
  },
  {
   "cell_type": "markdown",
   "metadata": {},
   "source": [
    "![title](figures/Deeper_network_Day2.png)"
   ]
  },
  {
   "cell_type": "markdown",
   "metadata": {},
   "source": [
    "Imagine that there are 300 cases (m = 300). What do our matrices look like? Let's start with "
   ]
  },
  {
   "cell_type": "markdown",
   "metadata": {},
   "source": [
    "$ Z^{[1]} = W^{[1]} X +b^{[1]}$"
   ]
  },
  {
   "cell_type": "markdown",
   "metadata": {},
   "source": [
    "- $W^{[1]}$ is the weights matrix with dimensions (4 x 2)\n",
    "- If we look at all our samples, $x$ is a (2 x 300)-matrix.\n",
    "- $Z^{[1]}$ is a (4 x 300)-matrix.\n",
    "- $b^{[1]}$ is a (4 x 1)-matrix. Due to broadcasting in python, this matrix will become duplicated into a (4 x 300)-matrix."
   ]
  },
  {
   "cell_type": "markdown",
   "metadata": {},
   "source": [
    "Let's take it one step further. In $ Z^{[2]} = W^{[2]} A^{[1]} +b^{[2]}$\n",
    "\n",
    "- The dimension of $A^{[1]}$ is the same as the dimension of $Z^{[1]}$: (4 x 300)\n",
    "- $W^{[2]}$ is the weights matrix with dimensions (3 x 4)\n",
    "- $Z^{[2]}$ is a (3 x 300)-matrices.\n",
    "- $b^{[2]}$ is a (3 x 1)-matrix. Due to broadcasting in python, this matrix will become duplicated into a (3 x 300)-matrix.\n"
   ]
  },
  {
   "cell_type": "markdown",
   "metadata": {},
   "source": [
    "### 2.2 to generalize this all"
   ]
  },
  {
   "cell_type": "markdown",
   "metadata": {},
   "source": [
    "$W^{[l]}: (n^{[l]}, n^{[l-1]})$\n",
    "\n",
    "$b^{[l]}: (n^{[l]}, 1)$\n",
    "\n",
    "$dW^{[l]}: (n^{[l]}, n^{[l-1]})$\n",
    "\n",
    "$db^{[l]}: (n^{[l]}, 1)$"
   ]
  },
  {
   "cell_type": "markdown",
   "metadata": {},
   "source": [
    "$ a^{[l]}, z^{[l]}: (n^{[l]}, 1)$\n",
    "\n",
    "$ Z^{[l]}, A^{[l]}: (n^{[l]}, m)$\n",
    "\n",
    "$ dZ^{[l]}, dA^{[l]}: (n^{[l]}, m)$\n"
   ]
  },
  {
   "cell_type": "markdown",
   "metadata": {},
   "source": [
    "### 2.3 Forward propagation"
   ]
  },
  {
   "cell_type": "markdown",
   "metadata": {},
   "source": [
    "- Input is $a^{[l-1]}$\n",
    "- Output $a^{[l]}$, save $z^{[l]}, w^{[l]}, b^{[l]}, a^{[l-1]} $"
   ]
  },
  {
   "cell_type": "markdown",
   "metadata": {},
   "source": [
    "#### 2.3.1 for one sample"
   ]
  },
  {
   "cell_type": "markdown",
   "metadata": {},
   "source": [
    "$ z^{[l]}= W^{[l]} a^{[l-1]} + b^{[l]}$\n",
    "\n",
    "$ a^{[l]}= g^{[l]} ( z^{[l]})$"
   ]
  },
  {
   "cell_type": "markdown",
   "metadata": {},
   "source": [
    "here, $ a^{[l]}, z^{[l]}: (n^{[l]}, 1)$"
   ]
  },
  {
   "cell_type": "markdown",
   "metadata": {},
   "source": [
    "#### 2.3.2 vectorized"
   ]
  },
  {
   "cell_type": "markdown",
   "metadata": {},
   "source": [
    "vectorized, otherwise small z and small a (if one sample at a time), otherwise the capitals are used."
   ]
  },
  {
   "cell_type": "markdown",
   "metadata": {},
   "source": [
    "$ Z^{[l]}= W^{[l]} A^{[l-1]} + b^{[l]}$\n",
    "\n",
    "$ A^{[l]}= g^{[l]} ( Z^{[l]})$"
   ]
  },
  {
   "cell_type": "markdown",
   "metadata": {},
   "source": [
    "here, $ Z^{[l]}, A^{[l]}: (n^{[l]}, m)$"
   ]
  },
  {
   "cell_type": "markdown",
   "metadata": {},
   "source": [
    "### 2.4 Backward propagation"
   ]
  },
  {
   "cell_type": "markdown",
   "metadata": {},
   "source": [
    "- Input $da ^{[l]}$\n",
    "- Output $da^{[l-1]}$, $dW^{[l]}, db^{[l]}$"
   ]
  },
  {
   "cell_type": "markdown",
   "metadata": {},
   "source": [
    "#### 2.4.1 for one sample"
   ]
  },
  {
   "cell_type": "markdown",
   "metadata": {},
   "source": [
    "$ dz^{[l]}= da ^{[l]} * g^{[l]'} ( z^{[l]})$\n",
    "\n",
    "$ dW^{[l]} =  dz^{[l]}* a^{[l-1]T}$\n",
    "\n",
    "$ db^{[l]} = dz^{[l]}$\n",
    "\n",
    "$ da^{[l-1]} = W^{[l]T}*dz^{[l]}$\n",
    "\n",
    "\n"
   ]
  },
  {
   "cell_type": "markdown",
   "metadata": {},
   "source": [
    "#### 2.4.2 vectorized"
   ]
  },
  {
   "cell_type": "markdown",
   "metadata": {},
   "source": [
    "$ dZ^{[l]}= dA ^{[l]} * g^{[l]'} (Z^{[l]})$\n",
    "\n",
    "$ dW^{[l]} = \\dfrac{1}{m} dZ^{[l]}* A^{[l-1]T}$\n",
    "\n",
    "$ db^{[l]} = \\dfrac{1}{m} np.sum(dZ^{[l]}, axis=1, keepdims=True)$\n",
    "\n",
    "$ dA^{[l-1]} = W^{[l]T}*dZ^{[l]}$\n"
   ]
  },
  {
   "cell_type": "markdown",
   "metadata": {},
   "source": [
    "# Summary\n",
    "\n",
    "In this brief lesson, we gave an intuitive justification behind using deep network structures and reviewed the architecture for neural nets in general. In upcoming lessons, we will begin to extend our previous work in creating a single layer neural network in order to build a deeper more powerful model."
   ]
  }
 ],
 "metadata": {
  "kernelspec": {
   "display_name": "Python 3",
   "language": "python",
   "name": "python3"
  },
  "language_info": {
   "codemirror_mode": {
    "name": "ipython",
    "version": 3
   },
   "file_extension": ".py",
   "mimetype": "text/x-python",
   "name": "python",
   "nbconvert_exporter": "python",
   "pygments_lexer": "ipython3",
   "version": "3.6.6"
  }
 },
 "nbformat": 4,
 "nbformat_minor": 2
}
